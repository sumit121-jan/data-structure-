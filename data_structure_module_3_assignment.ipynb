{
  "nbformat": 4,
  "nbformat_minor": 0,
  "metadata": {
    "colab": {
      "provenance": []
    },
    "kernelspec": {
      "name": "python3",
      "display_name": "Python 3"
    },
    "language_info": {
      "name": "python"
    }
  },
  "cells": [
    {
      "cell_type": "markdown",
      "source": [
        "# Theory Question"
      ],
      "metadata": {
        "id": "so5QluW5gPo0"
      }
    },
    {
      "cell_type": "markdown",
      "source": [
        " 1. What are data structures, and why are they important?\n"
      ],
      "metadata": {
        "id": "SuPh5Ei2waa4"
      }
    },
    {
      "cell_type": "markdown",
      "source": [
        "Data structures are specialized formats for organizing, storing, and managing data to enable efficient access and modification. They define the way data is stored, the relationships among the data, and the operations that can be performed on it.\n",
        "\n",
        "\n",
        "\n",
        "\n",
        "What Makes Data Structures important?\n",
        "\n",
        "* Effective Data Management: Data structures make it easier to store and arrange data so that it may be processed, updated, and retrieved with ease. When working with enormous datasets, this efficiency is essential.\n",
        "\n",
        "* Optimised Algorithms: Algorithms are frequently made to function best with particular data structures. Binary search, for instance, performs effectively with binary search trees or sorted arrays.\n",
        "\n",
        "* Better Performance: Selecting the appropriate data structure lowers program\n",
        " execution time and memory use complexity.\n",
        "\n",
        "* Scalability: The appropriate data structure guarantees scalability as data sizes increase in real-world applications such as databases, web servers, and machine learning algorithms.\n"
      ],
      "metadata": {
        "id": "XJVCXlWYwlpi"
      }
    },
    {
      "cell_type": "markdown",
      "source": [
        "2.  Explain the difference between mutable and immutable data types with examples\n"
      ],
      "metadata": {
        "id": "3UZI364Kxm7t"
      }
    },
    {
      "cell_type": "markdown",
      "source": [
        "Python classifies data types according to whether or not their values can be changed after they are created:\n",
        "\n",
        "* Muttable Data Types\n",
        "\n",
        "\n",
        "After they are generated, the values of these data types can be altered.\n",
        "List, dict, set, and bytearray are a few examples.\n",
        "Important Features:\n",
        "The content can be altered (e.g., elements can be added, removed, or changed).\n",
        "After alteration, their object id (memory address) stays the same.\n",
        "\n",
        "\n",
        "* Immutable Data Types\n",
        "\n",
        "These are data types that, once generated, cannot have their values altered.\n",
        "Int, float, str, tuple, frozenset, and bytes are a few examples.\n",
        "Important Features:\n",
        "Any \"modification\" results in the creation of a new object with an ID in memory.\n",
        "Because their hash value doesn't change, they are frequently used as keys in dictionaries.\n",
        "\n"
      ],
      "metadata": {
        "id": "R1gzSogfxtLs"
      }
    },
    {
      "cell_type": "markdown",
      "source": [
        "3. What are the main differences between lists and tuples in Python?\n"
      ],
      "metadata": {
        "id": "B9Ez2jVO0Nm2"
      }
    },
    {
      "cell_type": "markdown",
      "source": [
        "Lists and tuples are both data structures in Python, but they differ significantly in their characteristics and use cases. The primary difference is that lists are mutable, meaning they can be modified after creation, while tuples are immutable, meaning they cannot be changed once created. Lists are defined using square brackets [ ] and support operations like appending, removing, and extending elements, making them ideal for dynamic collections that require frequent updates. On the other hand, tuples are defined using parentheses ( ) and are better suited for static or constant collections where immutability is essential.\n",
        "\n",
        "Due to their mutable nature, lists are slightly slower and use more memory compared to tuples, which are faster and memory-efficient because of their fixed size and immutability. Tuples can also be used as keys in dictionaries if they contain only hashable elements, while lists cannot be used as keys because they are not hashable. Lists provide a wide range of methods for manipulation, such as append(), remove(), and sort(), whereas tuples only offer basic methods like count() and index()."
      ],
      "metadata": {
        "id": "FMXrVyFp0FFK"
      }
    },
    {
      "cell_type": "markdown",
      "source": [
        "4. Describe how dictionaries store data\n"
      ],
      "metadata": {
        "id": "fWycyF7r0u8j"
      }
    },
    {
      "cell_type": "markdown",
      "source": [
        "Python dictionaries use a highly optimised structure known as a hash table to store data as key-value pairs. This enables effective data insertion, deletion, and retrieval with an O(1) average time complexity. Every dictionary key is hashed to provide a distinct index in the hash table, which identifies the location of the associated data. thats why u cant store same key more than once or use muttable data types as key cause then hashing is not possible and hence decrease efficiency."
      ],
      "metadata": {
        "id": "bUxgzQEI1BH0"
      }
    },
    {
      "cell_type": "markdown",
      "source": [
        "5.  Why might you use a set instead of a list in Python?"
      ],
      "metadata": {
        "id": "kODoW2KED19d"
      }
    },
    {
      "cell_type": "markdown",
      "source": [
        "You might choose a set over a list in Python when you need to ensure uniqueness of elements, as sets automatically prevent duplicates. This makes sets ideal for situations where you only want unique items, such as when collecting distinct values from a dataset. Additionally, sets offer faster membership testing since they use hash tables, allowing you to check if an element exists in constant time ( O(1)), unlike lists, where membership testing can take linear time ( O(n)). Sets also support mathematical set operations, such as union, intersection, and difference, making them useful for tasks like finding common elements between two collections or combining them without duplicates. Another benefit is that sets are unordered, meaning they don't maintain the order of elements, which can save memory and enhance performance in situations when order isn't crucial. Because it is more effective to remove an item from a set than from a list, sets also allow for quicker element removal. Lists would be better suitable if you need to preserve the order of entries or permit duplicates, as sets do not provide indexing or ordering. Lists work better for ordered collections that could include duplicate items, whereas sets are generally preferable for operations when uniqueness and efficiency are important regardless of order.\n"
      ],
      "metadata": {
        "id": "CQ1gDgb0E9xO"
      }
    },
    {
      "cell_type": "markdown",
      "source": [
        "6. What is a string in Python, and how is it different from a list?\n",
        "\n",
        "\n",
        "\n"
      ],
      "metadata": {
        "id": "jP6L6gvdHTEl"
      }
    },
    {
      "cell_type": "markdown",
      "source": [
        "* A series of characters encapsulated in single, double, or triple quotations is called a string. Since strings are immutable once they are generated, their content cannot be altered. It represents textual data. Python strings may perform a number of operations, including indexing, slicing, concatenation, and repeating; however, adding or item assignment are not permitted.\n",
        "\n",
        "* In contrast, a list is an ordered collection of any kind of item, including objects, strings, numbers, and more. Lists can have their contents changed after they are created because they are changeable. Lists are more versatile than strings since you may add, delete, or modify elements. Lists can contain items of different kinds and are denoted by square brackets []."
      ],
      "metadata": {
        "id": "jfFafJogJf3Q"
      }
    },
    {
      "cell_type": "markdown",
      "source": [
        "7.  How do tuples ensure data integrity in Python?"
      ],
      "metadata": {
        "id": "KgBZ5AMmJg-l"
      }
    },
    {
      "cell_type": "markdown",
      "source": [
        "Because tuples are immutable—that is, their elements cannot be added, altered, or deleted once they are created—they guarantee data integrity in Python. Because of its immutability, a tuple's data is guaranteed to stay consistent throughout the program. Tuples therefore guarantee that the data retains its original shape and value and guard against unintentional changes. Tuples can be used as elements in sets or as keys in dictionaries since they are hashable and cannot be changed, further maintaining their integrity. Because of this feature, tuples are a dependable option for situations when data consistency and predictability are crucial, such when expressing locations, dates, or configuration parameters. All things considered, tuples' immutability provide protection against inadvertent data corruption.\n"
      ],
      "metadata": {
        "id": "-Q_boHpEJpKb"
      }
    },
    {
      "cell_type": "markdown",
      "source": [
        "8. What is a hash table, and how does it relate to dictionaries in Python?\n"
      ],
      "metadata": {
        "id": "nuvUMDwQKQvC"
      }
    },
    {
      "cell_type": "markdown",
      "source": [
        "A hash function is used to calculate an index (or hash value) when each key-value pair is kept in a hash table, which is a data structure that holds key-value pairs. This makes it possible to retrieve data efficiently, usually in constant time (O(1)). Although collisions can happen when two keys provide the same hash result, the hash function makes sure that every key is assigned to a distinct index in the array. In these situations, dispute resolution strategies like chaining or open addressing are employed. Python's built-in hash() function is used to hash the keys in hash tables, which are used to create dictionaries. since of this, dictionaries are very effective at handling key-value pairs since they enable fast lookups, insertions, and removals. A Python dictionary's keys need to be hashable and immutable in order for their hash values to stay constant. By using hashing to facilitate rapid key-value lookups, dictionaries are essentially Python's implementation of hash tables, offering quick and effective access to data.\n"
      ],
      "metadata": {
        "id": "Jfvk5JPeKWOn"
      }
    },
    {
      "cell_type": "markdown",
      "source": [
        "9. Can lists contain different data types in Python?"
      ],
      "metadata": {
        "id": "G2MxbVy0OY5B"
      }
    },
    {
      "cell_type": "markdown",
      "source": [
        "Yes, It is possible for lists in Python to include items of several data kinds. Mixed-type data may be stored in a Python list, which is a flexible and dynamic data structure. For instance, a list may include booleans, strings, floats, integers, tuples, dictionaries, or even additional lists or objects.\n"
      ],
      "metadata": {
        "id": "uenu6XezOc9-"
      }
    },
    {
      "cell_type": "markdown",
      "source": [
        " 10.  Explain why strings are immutable in Python?"
      ],
      "metadata": {
        "id": "avBMNM1ATMJ8"
      }
    },
    {
      "cell_type": "markdown",
      "source": [
        "Strings in Python are immutable, meaning their contents cannot be changed after they are created. This design choice ensures efficiency, consistency, and security, and it aligns with Python’s emphasis on simplicity and reliability.\n",
        "\n",
        "Reasons for String Immutability:\n",
        "\n",
        "* Memory Optimization and Hashability:\n",
        "\n",
        "    Strings are commonly used as keys in dictionaries and elements in sets, which rely on hashing for fast lookups. For an object to be hashable, its value must remain constant throughout its lifetime. If strings were mutable, their hash values could change, leading to inconsistencies and potential errors in hash-based data structures.\n",
        "\n",
        "* Thread-Safety:\n",
        "\n",
        "    String immutability ensures thread safety when multiple threads are working with the same string object. Since the string cannot be modified, there is no risk of one thread altering its value while another is using it, reducing bugs in multi-threaded environments.\n",
        "\n",
        "* Efficiency with Memory Sharing:\n",
        "\n",
        "  Python optimizes memory usage by reusing string objects (string interning). For example, multiple variables referencing the same string can share the same memory address. Immutability ensures that these shared objects are safe from unintended modifications.\n",
        "\n",
        "* Ease of Implementation:\n",
        "  \n",
        "  Immutable strings simplify implementation by eliminating concerns about in-place modifications. This makes functions and methods that work with strings more predictable and less error-prone"
      ],
      "metadata": {
        "id": "hiG6FXD2Tovw"
      }
    },
    {
      "cell_type": "markdown",
      "source": [
        "11. What advantages do dictionaries offer over lists for certain tasks."
      ],
      "metadata": {
        "id": "dLVj1dyhUDEr"
      }
    },
    {
      "cell_type": "markdown",
      "source": [
        "Dictionaries in Python offer significant advantages over lists for tasks that involve associating and quickly retrieving data based on keys. Unlike lists, which are indexed by numerical positions, dictionaries use keys to map and access values, making them highly efficient for certain operations.\n",
        "\n",
        "* Advantages of Dictionaries over Lists:\n",
        "\n",
        "\n",
        "* Fast Lookups:\n",
        "\n",
        "  Dictionaries provide constant time complexity (O(1)) for key lookups, thanks to their underlying hash table implementation. In contrast, searching for an element in a list can take linear time (O(n)), especially if the list is large.\n",
        "\n",
        "* Key-Value Pair Association:\n",
        "\n",
        " Dictionaries allow storing data as key-value pairs, making it easier to model relationships between entities. This structure is more intuitive and versatile than using lists, which only store values in a sequential manner.\n",
        "\n",
        "* Dynamic Keys:\n",
        "\n",
        "  Dictionaries can use almost any immutable object as a key (e.g., strings, numbers, tuples), offering greater flexibility compared to lists, which rely on integer indices.\n",
        "\n",
        "* Unordered but Organized:\n",
        "\n",
        "  Although dictionaries are unordered (up until Python 3.6, after which they maintain insertion order), their key-value organization ensures logical data grouping, making them ideal for tasks requiring structured data.\n",
        "\n"
      ],
      "metadata": {
        "id": "mrtaGCBdUqGj"
      }
    },
    {
      "cell_type": "markdown",
      "source": [
        "12. Describe a scenario where using a tuple would be preferable over a list."
      ],
      "metadata": {
        "id": "vl3dc9tZV49p"
      }
    },
    {
      "cell_type": "markdown",
      "source": [
        "  A tuple would be preferable over a list in scenarios where immutability is required to ensure the integrity of data. Tuples are immutable, meaning their contents cannot be modified after creation. This makes them ideal for representing fixed collections of data where changes are neither expected nor allowed, ensuring consistency and preventing accidental modifications.\n",
        "\n",
        "  Example Scenario: Storing GPS Coordinates\n",
        "  Imagine you're developing a mapping application that frequently works with geographical locations. Each location is represented by a pair of latitude and longitude values. Since these coordinates are fixed for a given location and should not be altered, using a tuple is preferable over a list."
      ],
      "metadata": {
        "id": "vA4RVTQQWAHw"
      }
    },
    {
      "cell_type": "markdown",
      "source": [
        "13.  How do sets handle duplicate values in Python?\n"
      ],
      "metadata": {
        "id": "gcvidmISWOoz"
      }
    },
    {
      "cell_type": "markdown",
      "source": [
        "Sets use a hash table under the hood to store elements. Each element's hash value is computed, and this hash value is used to check for duplicates. If the hash of a new element matches an existing one in the set, it is treated as a duplicate and not added again.\n",
        "This makes checking for duplicates and adding elements highly efficient, with an average time complexity of O(1)."
      ],
      "metadata": {
        "id": "SdXYass3WiiG"
      }
    },
    {
      "cell_type": "markdown",
      "source": [
        "14.  How does the “in” keyword work differently for lists and dictionaries?\n"
      ],
      "metadata": {
        "id": "cSw15Qv_XG7D"
      }
    },
    {
      "cell_type": "markdown",
      "source": [
        "The in keyword in Python is used to check for membership, but its behavior differs for lists and dictionaries because of their underlying data structures.\n",
        "\n",
        "in with Lists:\n",
        "When used with a list, in checks if a specific value exists as an element in the list.\n",
        "The operation requires a linear search through the list, as lists are ordered and do not provide direct access to elements.\n",
        "The time complexity is\n",
        "O(n), where\n",
        "𝑛\n",
        "n is the length of the list.\n",
        "\n",
        "Example:\n",
        "\n",
        "    my_list = [1, 2, 3, 4, 5]\n",
        "    print(3 in my_list)  # Output: True\n",
        "    print(6 in my_list)  # Output: False\n",
        "    Here, Python iterates through the list to determine if 3 exists.\n",
        "\n",
        "in with Dictionaries:\n",
        "\n",
        "For dictionaries, in checks for the existence of a key (not a value).\n",
        "The operation leverages the hash table used internally by dictionaries, making it much faster on average compared to lists.\n",
        "The time complexity is\n",
        "O(1) on average for checking key existence.\n",
        "\n",
        "Example:\n",
        "\n",
        "    my_dict = {'a': 1, 'b': 2, 'c': 3}\n",
        "    print('a' in my_dict)  # Output: True\n",
        "    print(2 in my_dict)    # Output: False\n",
        "Here, in checks for the presence of the key 'a' in the dictionary. It does not check for the value 2."
      ],
      "metadata": {
        "id": "8hXBup-BYF8x"
      }
    },
    {
      "cell_type": "markdown",
      "source": [
        "15.  Can you modify the elements of a tuple? Explain why or why not?\n"
      ],
      "metadata": {
        "id": "x6bBqOeAYsRh"
      }
    },
    {
      "cell_type": "markdown",
      "source": [
        "No, you cannot modify the elements of a tuple in Python because tuples are immutable. Once a tuple is created, its elements cannot be changed, added, or removed. This immutability arises because tuples are designed to ensure data integrity and make them safe for use as keys in dictionaries or elements of sets, which require hashable and unchanging data.\n",
        "\n",
        "Why Tuples Are Immutable Hashability:\n",
        "\n",
        "\n",
        "* Hashability:\n",
        "\n",
        "Tuples can be used as keys in dictionaries or elements of sets because their immutability ensures that their hash value remains constant throughout their lifetime. Modifying elements would invalidate their hash value.\n",
        "\n",
        "* Data Integrity:\n",
        "\n",
        "Tuples are often used to represent fixed collections of items (e.g., coordinates, settings, or constant values). Immutability guarantees that these values won't accidentally change, making code more predictable.\n",
        "\n",
        "* Optimization:\n",
        "\n",
        "Tuples are optimized for performance. Immutability allows Python to implement tuples more efficiently in terms of memory and speed compared to mutable types like lists."
      ],
      "metadata": {
        "id": "K68xNYIgZAJJ"
      }
    },
    {
      "cell_type": "markdown",
      "source": [
        "16.  What is a nested dictionary, and give an example of its use case?"
      ],
      "metadata": {
        "id": "PlQ4BuqoZ-BD"
      }
    },
    {
      "cell_type": "markdown",
      "source": [
        "A nested dictionary in Python is a dictionary where some of its values are dictionaries themselves. This structure allows you to organize data hierarchically and efficiently manage complex datasets.\n",
        "\n",
        "Example of a Nested Dictionary\n",
        "\n",
        "Imagine you're creating a database to store information about students in a school, categorized by class. Each class contains a dictionary of students, with their names as keys and their details (like age and grades) as values.\n",
        "\n",
        "        school_data = {\n",
        "            \"Class 10\": {\n",
        "                \"Alice\": {\"age\": 15, \"grades\": {\"math\": 88, \"science\": 92}},\n",
        "                \"Bob\": {\"age\": 16, \"grades\": {\"math\": 76, \"science\": 85}},\n",
        "            },\n",
        "            \"Class 11\": {\n",
        "                \"Charlie\": {\"age\": 16, \"grades\": {\"math\": 90, \"science\": 95}},\n",
        "                \"Diana\": {\"age\": 17, \"grades\": {\"math\": 85, \"science\": 80}},\n",
        "            },\n",
        "        }\n",
        "\n",
        "Accessing data in a nested dictionary\n",
        "print(school_data[\"Class 10\"][\"Alice\"][\"grades\"][\"math\"])  # Output: 88\n",
        "\n",
        "Use Cases of Nested Dictionaries\n",
        "\n",
        "* Hierarchical Data Representation:\n",
        "\n",
        "  Nested dictionaries are ideal for representing data with multiple levels of categorization, such as school systems, organization charts, or folder structures.\n",
        "\n",
        "* Storing Configuration Data:\n",
        "\n",
        "  Nested dictionaries can store configurations with multiple layers of options, such as settings for software or games.\n",
        "* Dynamic and Flexible Data Management:\n",
        "\n",
        " They allow for efficient and dynamic grouping of data, such as user profiles in a multi-tiered application.\n",
        "Database-Like Storage: In lightweight applications, nested dictionaries can act as an in-memory substitute for a database."
      ],
      "metadata": {
        "id": "do7q0qTaaR7o"
      }
    },
    {
      "cell_type": "markdown",
      "source": [
        "17.  Describe the time complexity of accessing elements in a dictionary?"
      ],
      "metadata": {
        "id": "qclvfJFrcz5w"
      }
    },
    {
      "cell_type": "markdown",
      "source": [
        "\n",
        "\n",
        "The time complexity of accessing elements in a dictionary in Python is O(1) on average. This is due to the underlying implementation of dictionaries using hash tables, which allow for efficient key-based lookups. Here's a detailed explanation:\n",
        "\n",
        "Why the Average Time Complexity is O(1)\n",
        "* Hashing:\n",
        "\n",
        " When a key is accessed in a dictionary, Python calculates a hash value for the key using its hash function. This hash value determines the index of the key-value pair in the hash table.\n",
        "* Direct Access:\n",
        "\n",
        "  The hash table allows Python to jump directly to the memory location where the key-value pair is stored, rather than searching sequentially like in lists. This direct mapping results in constant-time complexity on average."
      ],
      "metadata": {
        "id": "Gz_toPx8bKvP"
      }
    },
    {
      "cell_type": "markdown",
      "source": [
        "18.  In what situations are lists preferred over dictionaries?\n"
      ],
      "metadata": {
        "id": "DbqsjYbcc3Fh"
      }
    },
    {
      "cell_type": "markdown",
      "source": [
        "\n",
        "Lists are preferred over dictionaries in Python in situations where:\n",
        "\n",
        "* Ordered Data:\n",
        "\n",
        "When the order of elements is important and needs to be preserved. Lists maintain the order of elements, so if you need to access items in the sequence they were added or perform operations like slicing, a list is ideal.\n",
        "\n",
        "* Indexed by Position:\n",
        "\n",
        "When you need to access elements by their position or index rather than by a key. Lists are indexed by integers, which is convenient for tasks like iterating over a sequence, accessing elements in a specific range, or performing operations on each element in order.\n",
        "\n",
        "\n",
        "* Small Data Sets:\n",
        "\n",
        "When the dataset is small, the performance differences between lists and dictionaries are minimal. In these cases, using lists can be simpler and more intuitive.\n",
        "\n",
        "* Memory Efficiency:\n",
        "\n",
        "For cases where memory usage is critical and you're storing only a small number of elements. Lists tend to use less memory than dictionaries because dictionaries require more overhead due to their key-value pair structure."
      ],
      "metadata": {
        "id": "p7f6P5iKb7vR"
      }
    },
    {
      "cell_type": "markdown",
      "source": [
        "19. Why are dictionaries considered unordered, and how does that affect data retrieval?\n",
        "\n",
        "\n"
      ],
      "metadata": {
        "id": "2_qzhhPjc5od"
      }
    },
    {
      "cell_type": "markdown",
      "source": [
        "Dictionaries in Python are considered unordered because, until Python 3.7, they did not guarantee that the order of key-value pairs would be preserved. In earlier versions, dictionaries used a hashing mechanism to store data, which meant the order of items was not predictable. Even though Python 3.7 and beyond guarantee that dictionaries preserve insertion order (they maintain the order in which key-value pairs were added), dictionaries still operate under the underlying principle of unordered collections.\n",
        "\n",
        "How this Affects Data Retrieval:\n",
        "* Efficient Key-Based Lookup:\n",
        "\n",
        " Dictionaries are designed for fast lookups, not based on the position of elements but on the key. The main advantage of dictionaries is their ability to access values in constant time, O(1), regardless of the number of items in the dictionary. This is achieved through hashing, where the keys are processed and hashed to quickly find their corresponding values.\n",
        "\n",
        "* No Indexing by Position:\n",
        "\n",
        "  Unlike lists, dictionaries do not allow access to elements via an index. For example, you can't access the 3rd item in a dictionary by calling an index (e.g., dict[2]). Instead, you retrieve values by their unique keys. This lack of indexing by position reflects the unordered nature of dictionaries.\n",
        "\n",
        "* Iteration Order in Earlier Python Versions:\n",
        "\n",
        " In Python 3.6 and below, iteration over dictionaries did not guarantee any order. This meant that when iterating over a dictionary with a for loop, the order of items could vary each time the program ran, making it unreliable for tasks that required ordering. Starting from Python 3.7, dictionaries now maintain the insertion order, which means that if you insert items in a specific order, they will be retrieved in that same order.\n",
        "\n"
      ],
      "metadata": {
        "id": "CTKJZy9ldKAa"
      }
    },
    {
      "cell_type": "markdown",
      "source": [
        "20.  Explain the difference between a list and a dictionary in terms of data retrieval."
      ],
      "metadata": {
        "id": "DZGkOX-rdj0d"
      }
    },
    {
      "cell_type": "markdown",
      "source": [
        "The primary difference between a list and a dictionary in Python, in terms of data retrieval, lies in the way they store and access data:\n",
        "\n",
        "1. Data Storage:\n",
        "List: A list stores data in an ordered sequence. Each element in the list is indexed by its position, starting from index 0. Lists are indexed collections, meaning the position of each element is important, and you can retrieve data by referring to its index.\n",
        "Dictionary: A dictionary stores data as key-value pairs. The keys are used to identify the values, and each key must be unique. Unlike lists, dictionaries are unordered (before Python 3.7, though now they maintain insertion order in modern versions), so the order in which data is stored is not guaranteed.\n",
        "2. Data Retrieval:\n",
        "\n",
        "List:\n",
        "\n",
        " Data is retrieved using an index. To get an element from a list, you specify its index (position) in the list. This means that the position of an element in the list is crucial to its retrieval.\n",
        "Example:\n",
        "\n",
        "      my_list = ['apple', 'banana', 'cherry']\n",
        "      print(my_list[1])  # Output: 'banana'\n",
        "      Time Complexity: Accessing an element in a list by its index is O(1) (constant time).\n",
        "Dictionary:\n",
        "\n",
        "Data is retrieved using a key. To get the value associated with a key in a dictionary, you provide the key, not the position. The keys are hashed, and the dictionary uses this hash to quickly access the value associated with that key.\n",
        "Example:\n",
        "\n",
        "    my_dict = {'name': 'Alice', 'age': 25, 'city': 'New York'}\n",
        "    print(my_dict['age'])  # Output: 25\n",
        "Time Complexity:\n",
        "\n",
        "Retrieving a value by key in a dictionary is O(1) on average, due to the underlying hashing mechanism.\n"
      ],
      "metadata": {
        "id": "WG7K1jy2faHr"
      }
    },
    {
      "cell_type": "markdown",
      "source": [
        "# Practical Questions\n"
      ],
      "metadata": {
        "id": "4WT_wypJgfmE"
      }
    },
    {
      "cell_type": "markdown",
      "source": [
        "1. Write a code to create a string with your name and print it.\n"
      ],
      "metadata": {
        "id": "DTDAsJdB4rDb"
      }
    },
    {
      "cell_type": "code",
      "source": [
        "user_input = input(\"enter name: \")\n",
        "user_name = user_input\n",
        "print(user_name)\n",
        "#or\n",
        "name= \"arbaz\"\n",
        "print(name)"
      ],
      "metadata": {
        "colab": {
          "base_uri": "https://localhost:8080/"
        },
        "id": "88mHUvzn4R6A",
        "outputId": "2a132822-9230-4f00-c7ee-1f4183ebed42"
      },
      "execution_count": 3,
      "outputs": [
        {
          "output_type": "stream",
          "name": "stdout",
          "text": [
            "enter name: dd\n",
            "dd\n",
            "arbaz\n"
          ]
        }
      ]
    },
    {
      "cell_type": "markdown",
      "source": [
        "2.  Write a code to find the length of the string \"Hello World\".\n",
        "\n"
      ],
      "metadata": {
        "id": "YfJGmmpg5M9Y"
      }
    },
    {
      "cell_type": "code",
      "source": [
        "string1 = \"Hello World\"\n",
        "print(len(string1))\n"
      ],
      "metadata": {
        "colab": {
          "base_uri": "https://localhost:8080/"
        },
        "id": "Ca4u38cK5R25",
        "outputId": "4829cdf7-c0f2-420b-9662-37988327c40c"
      },
      "execution_count": 2,
      "outputs": [
        {
          "output_type": "stream",
          "name": "stdout",
          "text": [
            "11\n"
          ]
        }
      ]
    },
    {
      "cell_type": "markdown",
      "source": [
        "3.  Write a code to slice the first 3 characters from the string \"Python Programming\"\n"
      ],
      "metadata": {
        "id": "vKNl2OkL7M9o"
      }
    },
    {
      "cell_type": "code",
      "source": [
        "to_slice= \"Python Programming\"\n",
        "print(to_slice[0:3])"
      ],
      "metadata": {
        "colab": {
          "base_uri": "https://localhost:8080/"
        },
        "id": "R31vh-ph6q35",
        "outputId": "a582d505-0840-40be-98fa-366adbfee3e7"
      },
      "execution_count": 4,
      "outputs": [
        {
          "output_type": "stream",
          "name": "stdout",
          "text": [
            "Pyt\n"
          ]
        }
      ]
    },
    {
      "cell_type": "markdown",
      "source": [
        "4. Write a code to convert the string \"hello\" to uppercase\n"
      ],
      "metadata": {
        "id": "TtFU4AJz7TID"
      }
    },
    {
      "cell_type": "code",
      "source": [
        "string2=\"hello\"\n",
        "print(string2.upper())"
      ],
      "metadata": {
        "colab": {
          "base_uri": "https://localhost:8080/"
        },
        "id": "oqYcyZqo7STu",
        "outputId": "f47db6d6-e151-48c4-a9fb-e4f17761f0fb"
      },
      "execution_count": 8,
      "outputs": [
        {
          "output_type": "stream",
          "name": "stdout",
          "text": [
            "HELLO\n"
          ]
        }
      ]
    },
    {
      "cell_type": "markdown",
      "source": [
        "5.  Write a code to replace the word \"apple\" with \"orange\" in the string \"I like apple\"\n"
      ],
      "metadata": {
        "id": "1rXdUzl8-MWX"
      }
    },
    {
      "cell_type": "code",
      "source": [
        "strong = \"I like apple\"\n",
        "strong =strong.replace(\"apple\",\"orange\")\n",
        "print(strong)"
      ],
      "metadata": {
        "colab": {
          "base_uri": "https://localhost:8080/"
        },
        "id": "fgzovfwJ-YS7",
        "outputId": "3b702a04-c917-4a7a-ccd6-40dd46208273"
      },
      "execution_count": 14,
      "outputs": [
        {
          "output_type": "stream",
          "name": "stdout",
          "text": [
            "I like orange\n"
          ]
        }
      ]
    },
    {
      "cell_type": "markdown",
      "source": [
        "6.  Write a code to create a list with numbers 1 to 5 and print it\n"
      ],
      "metadata": {
        "id": "tscEsXdQAVTi"
      }
    },
    {
      "cell_type": "code",
      "source": [
        "list1 =[]\n",
        "for i in range(1,6,1):\n",
        "  list1.append(i)\n",
        "\n",
        "print(list1)"
      ],
      "metadata": {
        "colab": {
          "base_uri": "https://localhost:8080/"
        },
        "id": "GIKj_OOMCTdN",
        "outputId": "3d91f748-d4f6-4114-db7a-08a30cd228a1"
      },
      "execution_count": 17,
      "outputs": [
        {
          "output_type": "stream",
          "name": "stdout",
          "text": [
            "[1, 2, 3, 4, 5]\n"
          ]
        }
      ]
    },
    {
      "cell_type": "markdown",
      "source": [
        "7.  Write a code to append the number 10 to the list [1, 2, 3, 4]\n"
      ],
      "metadata": {
        "id": "DKzNAtJCCY3H"
      }
    },
    {
      "cell_type": "code",
      "source": [
        "numer =[1,2,3,4]\n",
        "numer.append(10)\n",
        "print(numer)"
      ],
      "metadata": {
        "colab": {
          "base_uri": "https://localhost:8080/"
        },
        "id": "VCrIN8olCx8k",
        "outputId": "85c9c438-242e-45f6-a4f6-36f034e2575e"
      },
      "execution_count": 18,
      "outputs": [
        {
          "output_type": "stream",
          "name": "stdout",
          "text": [
            "[1, 2, 3, 4, 10]\n"
          ]
        }
      ]
    },
    {
      "cell_type": "markdown",
      "source": [
        "8.  Write a code to remove the number 3 from the list [1, 2, 3, 4, 5]\n"
      ],
      "metadata": {
        "id": "FilLU0pGC5L-"
      }
    },
    {
      "cell_type": "code",
      "source": [
        "lst = [1,2,3,4,5]\n",
        "lst.remove(3)\n",
        "print(lst)"
      ],
      "metadata": {
        "colab": {
          "base_uri": "https://localhost:8080/"
        },
        "id": "AJa3UlUMC8vd",
        "outputId": "53afed93-82c3-41ae-ff82-5dedbd75c293"
      },
      "execution_count": 34,
      "outputs": [
        {
          "output_type": "stream",
          "name": "stdout",
          "text": [
            "[1, 2, 4, 5]\n"
          ]
        }
      ]
    },
    {
      "cell_type": "markdown",
      "source": [
        "9. Write a code to access the second element in the list ['a', 'b', 'c', 'd']\n"
      ],
      "metadata": {
        "id": "AJb_MTRgDG8g"
      }
    },
    {
      "cell_type": "code",
      "source": [
        " alist = [\"a\",\"b\",\"c\",\"d\"]\n",
        " print(alist[1])"
      ],
      "metadata": {
        "colab": {
          "base_uri": "https://localhost:8080/"
        },
        "id": "qlaZL4iLDKk4",
        "outputId": "c53e256f-2093-4b5e-fcbb-56d6379d3370"
      },
      "execution_count": 20,
      "outputs": [
        {
          "output_type": "stream",
          "name": "stdout",
          "text": [
            "b\n"
          ]
        }
      ]
    },
    {
      "cell_type": "markdown",
      "source": [
        "10.  Write a code to reverse the list [10, 20, 30, 40, 50].\n"
      ],
      "metadata": {
        "id": "vFAqqxTrDYiC"
      }
    },
    {
      "cell_type": "code",
      "source": [
        "orlist = [10,20,30,40,50]\n",
        "relist =orlist[::-1]\n",
        "print(relist)"
      ],
      "metadata": {
        "colab": {
          "base_uri": "https://localhost:8080/"
        },
        "id": "g9UuEOEjDb5i",
        "outputId": "10bbc126-8de9-4042-82ba-568a67ffefe2"
      },
      "execution_count": 22,
      "outputs": [
        {
          "output_type": "stream",
          "name": "stdout",
          "text": [
            "[50, 40, 30, 20, 10]\n"
          ]
        }
      ]
    },
    {
      "cell_type": "markdown",
      "source": [
        "11. Write a code to create a tuple with the elements 10, 20, 30 and print it.\n"
      ],
      "metadata": {
        "id": "HySolyxuEc-D"
      }
    },
    {
      "cell_type": "code",
      "source": [
        "tuplecr = (10,20,30)\n",
        "print(tuplecr)\n"
      ],
      "metadata": {
        "colab": {
          "base_uri": "https://localhost:8080/"
        },
        "id": "T4EK5Bh2EjcT",
        "outputId": "c7abd212-e228-41a6-dbd6-a5a80f9ae2ca"
      },
      "execution_count": 23,
      "outputs": [
        {
          "output_type": "stream",
          "name": "stdout",
          "text": [
            "(10, 20, 30)\n"
          ]
        }
      ]
    },
    {
      "cell_type": "markdown",
      "source": [
        " 12. Write a code to access the first element of the tuple ('apple', 'banana', 'cherry').\n"
      ],
      "metadata": {
        "id": "OK8NtsWrFUd2"
      }
    },
    {
      "cell_type": "code",
      "source": [
        "fruits = (\"apple\",\"banana\",\"cherry\")\n",
        "print(fruits[0])"
      ],
      "metadata": {
        "colab": {
          "base_uri": "https://localhost:8080/"
        },
        "id": "l73QpXLCFVbn",
        "outputId": "0b121e32-051a-441c-8c10-c11c94a64931"
      },
      "execution_count": 24,
      "outputs": [
        {
          "output_type": "stream",
          "name": "stdout",
          "text": [
            "apple\n"
          ]
        }
      ]
    },
    {
      "cell_type": "markdown",
      "source": [
        " 13. Write a code to count how many times the number 2 appears in the tuple (1, 2, 3, 2, 4, 2).\n"
      ],
      "metadata": {
        "id": "Kg4zT2nuFatu"
      }
    },
    {
      "cell_type": "code",
      "source": [
        "numbersr = ( 1, 2, 3, 2, 4, 2)\n",
        "print(numbersr.count(2))"
      ],
      "metadata": {
        "colab": {
          "base_uri": "https://localhost:8080/"
        },
        "id": "kEZa9PyyFdTM",
        "outputId": "7846b29c-cda1-43ea-d63d-dc0f80e49b80"
      },
      "execution_count": 25,
      "outputs": [
        {
          "output_type": "stream",
          "name": "stdout",
          "text": [
            "3\n"
          ]
        }
      ]
    },
    {
      "cell_type": "markdown",
      "source": [
        "14.  Write a code to find the index of the element \"cat\" in the tuple ('dog', 'cat', 'rabbit').\n"
      ],
      "metadata": {
        "id": "WD58UBYAFnSt"
      }
    },
    {
      "cell_type": "code",
      "source": [
        "animals = ('dog', 'cat', 'rabbit')\n",
        "print(animals.index(\"cat\"))"
      ],
      "metadata": {
        "colab": {
          "base_uri": "https://localhost:8080/"
        },
        "id": "9h7ZzXdrFwJS",
        "outputId": "24d6fc3b-4313-459f-cc45-718e6ce47f6e"
      },
      "execution_count": 26,
      "outputs": [
        {
          "output_type": "stream",
          "name": "stdout",
          "text": [
            "1\n"
          ]
        }
      ]
    },
    {
      "cell_type": "markdown",
      "source": [
        " 15. Write a code to check if the element \"banana\" is in the tuple ('apple', 'orange', 'banana').\n"
      ],
      "metadata": {
        "id": "hKzizhh5FsAu"
      }
    },
    {
      "cell_type": "code",
      "source": [
        "fruits = ('apple', 'orange', 'banana')\n",
        "print(\"banana\" in fruits)"
      ],
      "metadata": {
        "id": "tAcoAbogGGzb"
      },
      "execution_count": null,
      "outputs": []
    },
    {
      "cell_type": "markdown",
      "source": [
        " 16. Write a code to create a set with the elements 1, 2, 3, 4, 5 and print it.\n"
      ],
      "metadata": {
        "id": "rhTiXNn5GGPD"
      }
    },
    {
      "cell_type": "code",
      "source": [
        "numers = { i for i in range(1,6)}\n",
        "print(numers)"
      ],
      "metadata": {
        "colab": {
          "base_uri": "https://localhost:8080/"
        },
        "id": "8r29y8pkIDfz",
        "outputId": "9a217b32-e672-42a8-dde3-b4730f4ec1c3"
      },
      "execution_count": 29,
      "outputs": [
        {
          "output_type": "stream",
          "name": "stdout",
          "text": [
            "<class 'set'>\n",
            "{1, 2, 3, 4, 5}\n"
          ]
        }
      ]
    },
    {
      "cell_type": "markdown",
      "source": [
        " 17. Write a code to add the element 6 to the set {1, 2, 3, 4}.\n"
      ],
      "metadata": {
        "id": "nY9P0hDxIb2g"
      }
    },
    {
      "cell_type": "code",
      "source": [
        "numset = {1,2,3,4}\n",
        "numset.add(6)\n",
        "print(numset)"
      ],
      "metadata": {
        "colab": {
          "base_uri": "https://localhost:8080/"
        },
        "id": "iGKaELX8Ig-y",
        "outputId": "8aabd423-bcd6-473f-b3b4-8f3465a38d6e"
      },
      "execution_count": 30,
      "outputs": [
        {
          "output_type": "stream",
          "name": "stdout",
          "text": [
            "{1, 2, 3, 4, 6}\n"
          ]
        }
      ]
    },
    {
      "cell_type": "markdown",
      "source": [
        " 18. Write a code to create a tuple with the elements 10, 20, 30 and print it.\n"
      ],
      "metadata": {
        "id": "NqjsA-4NI-y4"
      }
    },
    {
      "cell_type": "code",
      "source": [
        "numtup = (10,20,30)\n",
        "print(numtup)"
      ],
      "metadata": {
        "colab": {
          "base_uri": "https://localhost:8080/"
        },
        "id": "F9grgjASJCKS",
        "outputId": "03dcf5c2-0db1-443e-9796-6ef866058342"
      },
      "execution_count": 32,
      "outputs": [
        {
          "output_type": "stream",
          "name": "stdout",
          "text": [
            "(10, 20, 30)\n"
          ]
        }
      ]
    },
    {
      "cell_type": "markdown",
      "source": [
        " 19. Write a code to access the first element of the tuple ('apple', 'banana', 'cherry').\n",
        "\n"
      ],
      "metadata": {
        "id": "rT_hBYTOJK8U"
      }
    },
    {
      "cell_type": "code",
      "source": [
        "fruits = (\"apple\",\"banana\",\"cherry\")\n",
        "print(fruits[0])"
      ],
      "metadata": {
        "colab": {
          "base_uri": "https://localhost:8080/"
        },
        "id": "SwyemqjSJZ4Z",
        "outputId": "1a3f8c68-2999-448b-8189-e76d862b6175"
      },
      "execution_count": 41,
      "outputs": [
        {
          "output_type": "stream",
          "name": "stdout",
          "text": [
            "apple\n"
          ]
        }
      ]
    },
    {
      "cell_type": "markdown",
      "source": [
        " 20. Write a code to count how many times the number 2 appears in the tuple (1, 2, 3, 2, 4, 2).\n"
      ],
      "metadata": {
        "id": "SJL1h0ZfJ172"
      }
    },
    {
      "cell_type": "code",
      "source": [
        "numbersr = ( 1, 2, 3, 2, 4, 2)\n",
        "print(numbersr.count(2))"
      ],
      "metadata": {
        "colab": {
          "base_uri": "https://localhost:8080/"
        },
        "id": "bogagR3iJySw",
        "outputId": "f7c5c64e-8cc4-4184-b6ea-840faf81a93d"
      },
      "execution_count": 39,
      "outputs": [
        {
          "output_type": "stream",
          "name": "stdout",
          "text": [
            "3\n"
          ]
        }
      ]
    },
    {
      "cell_type": "markdown",
      "source": [
        " 21. Write a code to find the index of the element \"cat\" in the tuple ('dog', 'cat', 'rabbit').\n"
      ],
      "metadata": {
        "id": "W19vRvwLJ7X-"
      }
    },
    {
      "cell_type": "code",
      "source": [
        "animals = ('dog', 'cat', 'rabbit')\n",
        "print(animals.index(\"cat\"))"
      ],
      "metadata": {
        "colab": {
          "base_uri": "https://localhost:8080/"
        },
        "id": "C-chDY2xJ-VX",
        "outputId": "4e29cff8-fedd-421e-db97-623ec8a98ae1"
      },
      "execution_count": 38,
      "outputs": [
        {
          "output_type": "stream",
          "name": "stdout",
          "text": [
            "1\n"
          ]
        }
      ]
    },
    {
      "cell_type": "markdown",
      "source": [
        " 22. Write a code to check if the element \"banana\" is in the tuple ('apple', 'orange', 'banana').\n"
      ],
      "metadata": {
        "id": "XhPLZQE0KLJD"
      }
    },
    {
      "cell_type": "code",
      "source": [
        "fruits = ('apple', 'orange', 'banana')\n",
        "print(\"banana\" in fruits)"
      ],
      "metadata": {
        "colab": {
          "base_uri": "https://localhost:8080/"
        },
        "id": "bHaFxD9hKthU",
        "outputId": "f7a8c9b9-0370-4dfd-8e9d-915ccd9ffb68"
      },
      "execution_count": 37,
      "outputs": [
        {
          "output_type": "stream",
          "name": "stdout",
          "text": [
            "True\n"
          ]
        }
      ]
    },
    {
      "cell_type": "markdown",
      "source": [
        " 23. Write a code to create a set with the elements 1, 2, 3, 4, 5 and print it.\n"
      ],
      "metadata": {
        "id": "IPdEyFoMK7T9"
      }
    },
    {
      "cell_type": "code",
      "source": [
        "numers = { i for i in range(1,6)}\n",
        "print(numers)"
      ],
      "metadata": {
        "colab": {
          "base_uri": "https://localhost:8080/"
        },
        "id": "hZuLt8K7K-Rm",
        "outputId": "07d0d9d5-3307-48c6-80f2-1e4ae2dcd043"
      },
      "execution_count": 36,
      "outputs": [
        {
          "output_type": "stream",
          "name": "stdout",
          "text": [
            "{1, 2, 3, 4, 5}\n"
          ]
        }
      ]
    },
    {
      "cell_type": "markdown",
      "source": [
        " 24. Write a code to add the element 6 to the set {1, 2, 3, 4}.\n"
      ],
      "metadata": {
        "id": "v_ru4CUcLRTm"
      }
    },
    {
      "cell_type": "code",
      "source": [
        "setnum = {1,2,3,4}\n",
        "setnum.add(6)\n",
        "print(setnum)"
      ],
      "metadata": {
        "colab": {
          "base_uri": "https://localhost:8080/"
        },
        "id": "PzxctkOHLTUj",
        "outputId": "01798239-1d0c-4122-e267-f3f31daa3332"
      },
      "execution_count": 43,
      "outputs": [
        {
          "output_type": "stream",
          "name": "stdout",
          "text": [
            "{1, 2, 3, 4, 6}\n"
          ]
        }
      ]
    }
  ]
}